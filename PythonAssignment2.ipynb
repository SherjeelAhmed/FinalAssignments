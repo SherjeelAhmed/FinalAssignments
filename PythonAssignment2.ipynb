{
 "cells": [
  {
   "cell_type": "code",
   "execution_count": 1,
   "metadata": {},
   "outputs": [
    {
     "name": "stdout",
     "output_type": "stream",
     "text": [
      "Total chickens are 23 and total rabbits are 12\n"
     ]
    }
   ],
   "source": [
    "#Q1\n",
    "total_heads = 35\n",
    "total_legs = 94\n",
    "lifted_legs = 2 * total_heads\n",
    "legs_on_ground = total_legs - lifted_legs\n",
    "rabbits = legs_on_ground // 2\n",
    "chickens = total_heads - rabbits\n",
    "print(f\"Total chickens are {chickens} and total rabbits are {rabbits}\")"
   ]
  },
  {
   "cell_type": "code",
   "execution_count": 2,
   "metadata": {},
   "outputs": [
    {
     "name": "stdout",
     "output_type": "stream",
     "text": [
      "Helloworld\n"
     ]
    }
   ],
   "source": [
    "#Q2\n",
    "str = \"H1e2l3l4o5w6o7r8l9d\"\n",
    "print(str[::2])"
   ]
  },
  {
   "cell_type": "code",
   "execution_count": 3,
   "metadata": {},
   "outputs": [
    {
     "name": "stdout",
     "output_type": "stream",
     "text": [
      "ris etov ot esir\n"
     ]
    }
   ],
   "source": [
    "#Q3\n",
    "str = \"rise to vote sir\"\n",
    "print(str[::-1])"
   ]
  },
  {
   "cell_type": "code",
   "execution_count": 4,
   "metadata": {},
   "outputs": [
    {
     "name": "stdout",
     "output_type": "stream",
     "text": [
      "{'a': 2, 'b': 2, 'c': 2, 'd': 1, 'e': 1, 'f': 1, 'g': 1}\n"
     ]
    }
   ],
   "source": [
    "#Q4\n",
    "'''\n",
    "get() method is used to check the previously occurring character in string, if its new, it assigns 0 as initial and appends 1\n",
    "to it, else appends 1 to previously holded value of that element in dictionary.\n",
    "\n",
    "'''\n",
    "str = \"abcdefgabc\"\n",
    "dict = {}\n",
    "\n",
    "for keys in str: \n",
    "    dict[keys] = dict.get(keys,0) + 1\n",
    "\n",
    "print(dict)"
   ]
  },
  {
   "cell_type": "code",
   "execution_count": 5,
   "metadata": {},
   "outputs": [
    {
     "name": "stdout",
     "output_type": "stream",
     "text": [
      "25\n"
     ]
    }
   ],
   "source": [
    "#Q5\n",
    "class Shape():\n",
    "    def __init__(self):\n",
    "        pass\n",
    "    \n",
    "    def area(self):\n",
    "        return 0\n",
    "\n",
    "        \n",
    "class Square(Shape):\n",
    "    def __init__(self,length):\n",
    "        self.length = length\n",
    "        \n",
    "    def area(self):\n",
    "        return (self.length * self.length)\n",
    "\n",
    "sq = Square(5)\n",
    "print(sq.area())"
   ]
  },
  {
   "cell_type": "code",
   "execution_count": 6,
   "metadata": {},
   "outputs": [
    {
     "name": "stdout",
     "output_type": "stream",
     "text": [
      "ZeroDivisionError\n",
      "Done\n"
     ]
    }
   ],
   "source": [
    "#Q6\n",
    "try:\n",
    "    print(5/0)\n",
    "except ZeroDivisionError:\n",
    "    print(\"ZeroDivisionError\")\n",
    "finally:\n",
    "    print(\"Done\")"
   ]
  },
  {
   "cell_type": "code",
   "execution_count": 7,
   "metadata": {},
   "outputs": [
    {
     "name": "stdout",
     "output_type": "stream",
     "text": [
      "john\n"
     ]
    }
   ],
   "source": [
    "#Q7\n",
    "import re                         # regular expressions are primarily used for string searching and manipulation\n",
    "emailAddress = \"john@google.com\"  # string\n",
    "pattern = \"(\\w+)@(\\w+)\\.(com)\"    # w+ matches the alphanumeric character in the string\n",
    "r = re.match(pattern,emailAddress) # compares the string with the pattern\n",
    "print(r.group(1))  # returning first part john for second part use r.group(2) to get google"
   ]
  },
  {
   "cell_type": "code",
   "execution_count": 8,
   "metadata": {},
   "outputs": [
    {
     "name": "stdout",
     "output_type": "stream",
     "text": [
      "['2', '3']\n"
     ]
    }
   ],
   "source": [
    "#Q8\n",
    "import re\n",
    "s = \"2 cats and 3 dogs.\"\n",
    "print (re.findall(\"\\d+\",s)) # is used when you want to iterate over the lines of the file"
   ]
  },
  {
   "cell_type": "code",
   "execution_count": 9,
   "metadata": {},
   "outputs": [
    {
     "name": "stdout",
     "output_type": "stream",
     "text": [
      "3.55\n"
     ]
    }
   ],
   "source": [
    "#Q9\n",
    "n = 5\n",
    "s = float(0)\n",
    "for i in range(1,n+1):\n",
    "    s  += i/(i+1)       # 1/2 +2/3 +3/4 +4/5..... +n/n+1\n",
    "print(\"%.2f\" %s)"
   ]
  },
  {
   "cell_type": "code",
   "execution_count": 22,
   "metadata": {},
   "outputs": [
    {
     "name": "stdout",
     "output_type": "stream",
     "text": [
      "Enter value of n: 5\n",
      "500\n"
     ]
    }
   ],
   "source": [
    "#Q10\n",
    "def f(n):\n",
    "    if n==0:\n",
    "        return 1\n",
    "    else:\n",
    "        return f(n-1)+100\n",
    "    \n",
    "value = int(input(\"Enter value of n: \"))\n",
    "x = f(value)\n",
    "print(x-1)"
   ]
  },
  {
   "cell_type": "code",
   "execution_count": 17,
   "metadata": {},
   "outputs": [
    {
     "name": "stdout",
     "output_type": "stream",
     "text": [
      "Input your password: ABd1234@1\n",
      "Valid Password\n"
     ]
    }
   ],
   "source": [
    "#Q11\n",
    "import re\n",
    "p= input(\"Input your password: \")\n",
    "x = True\n",
    "while x:  \n",
    "    if (len(p)<6 or len(p)>12):\n",
    "        break\n",
    "    elif not re.search(\"[a-z]\",p):\n",
    "        break\n",
    "    elif not re.search(\"[0-9]\",p):\n",
    "        break\n",
    "    elif not re.search(\"[A-Z]\",p):\n",
    "        break\n",
    "    elif not re.search(\"[$#@]\",p):\n",
    "        break\n",
    "    elif re.search(\"\\s\",p):\n",
    "        break\n",
    "    else:\n",
    "        print(\"Valid Password\")\n",
    "        x=False\n",
    "        break\n",
    "\n",
    "if x:\n",
    "    print(\"Not a Valid Password\")"
   ]
  },
  {
   "cell_type": "code",
   "execution_count": 18,
   "metadata": {},
   "outputs": [
    {
     "name": "stdout",
     "output_type": "stream",
     "text": [
      "Name ,Age ,Height \n",
      "Tom,19,80\n",
      "John,20,90\n",
      "Jony,17,91\n",
      "Jony,17,93\n",
      "Json,21,85\n",
      "\n",
      "[('John', '20', '90'), ('Jony', '17', '91'), ('Jony', '17', '93'), ('Json', '21', '85'), ('Tom', '19', '80')]\n"
     ]
    }
   ],
   "source": [
    "#Q12\n",
    "from operator import itemgetter\n",
    "data = []\n",
    "print(\"Name ,Age ,Height \")\n",
    "while True:\n",
    "    strdata = input()\n",
    "    if strdata == \"\":\n",
    "        break\n",
    "    else:\n",
    "        data.append(tuple(strdata.split(\",\")))\n",
    "print(sorted(data,key = itemgetter(0,1,2)))"
   ]
  },
  {
   "cell_type": "code",
   "execution_count": 19,
   "metadata": {},
   "outputs": [
    {
     "name": "stdout",
     "output_type": "stream",
     "text": [
      "0\n",
      "7\n",
      "14\n"
     ]
    }
   ],
   "source": [
    "#Q13\n",
    "class generator():\n",
    "    def __init__(self,n):\n",
    "        self.n = n\n",
    "    \n",
    "    def div(self):\n",
    "        for i in range(0,self.n):\n",
    "            if i % 7 == 0:\n",
    "                yield i\n",
    "\n",
    "for num in generator(15).div():\n",
    "    print(num)"
   ]
  },
  {
   "cell_type": "code",
   "execution_count": 20,
   "metadata": {},
   "outputs": [
    {
     "name": "stdout",
     "output_type": "stream",
     "text": [
      "Enter: UP 5\n",
      "Enter: DOWN 3\n",
      "Enter: LEFT 3\n",
      "Enter: RIGHT 2\n",
      "Enter: \n",
      "2\n"
     ]
    }
   ],
   "source": [
    "#Q14\n",
    "pos = {\n",
    "    \"x\": 0, \n",
    "    \"y\": 0\n",
    "}\n",
    "\n",
    "while True:\n",
    "\n",
    "    line = input(\"Enter: \")\n",
    "    if not line:\n",
    "        break\n",
    "\n",
    "    direction, steps = line.split()\n",
    "    if direction == \"UP\":\n",
    "        pos[\"y\"] += int(steps)\n",
    "    elif direction == \"DOWN\":\n",
    "        pos[\"y\"] -= int(steps)\n",
    "    elif direction == \"LEFT\":\n",
    "        pos[\"x\"] -= int(steps)\n",
    "    elif direction == \"RIGHT\":\n",
    "        pos[\"x\"] += int(steps)\n",
    "\n",
    "print (int(round((pos[\"x\"]**2 + pos[\"y\"]**2)**0.5)))"
   ]
  },
  {
   "cell_type": "code",
   "execution_count": 16,
   "metadata": {},
   "outputs": [
    {
     "name": "stdout",
     "output_type": "stream",
     "text": [
      "New to Python or choosing between Python 2 and Python 3? Read Python 2 or Python 3.\n",
      "2:2\n",
      "3.:1\n",
      "3?:1\n",
      "New:1\n",
      "Python:5\n",
      "Read:1\n",
      "and:1\n",
      "between:1\n",
      "choosing:1\n",
      "or:2\n",
      "to:1\n"
     ]
    }
   ],
   "source": [
    "#Q15\n",
    "str = input().split()\n",
    "word = sorted(set(str))     # split words are stored and sorted as a set\n",
    "\n",
    "for i in word:\n",
    "    print(\"{0}:{1}\".format(i,str.count(i)))"
   ]
  }
 ],
 "metadata": {
  "kernelspec": {
   "display_name": "Python 3",
   "language": "python",
   "name": "python3"
  },
  "language_info": {
   "codemirror_mode": {
    "name": "ipython",
    "version": 3
   },
   "file_extension": ".py",
   "mimetype": "text/x-python",
   "name": "python",
   "nbconvert_exporter": "python",
   "pygments_lexer": "ipython3",
   "version": "3.7.3"
  }
 },
 "nbformat": 4,
 "nbformat_minor": 2
}
