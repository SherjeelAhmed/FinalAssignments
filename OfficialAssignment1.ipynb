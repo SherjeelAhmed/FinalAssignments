{
 "cells": [
  {
   "cell_type": "code",
   "execution_count": 2,
   "metadata": {},
   "outputs": [
    {
     "name": "stdout",
     "output_type": "stream",
     "text": [
      "Input radius: 0.5\n",
      "Area of circle:  0.785\n"
     ]
    }
   ],
   "source": [
    "#Q1\n",
    "# radius of circle is A = pi x r^2\n",
    "pi = 3.14\n",
    "r = float(input(\"Input radius: \"))\n",
    "A = pi * (r**2)\n",
    "print(\"Area of circle: \",A)"
   ]
  },
  {
   "cell_type": "code",
   "execution_count": 4,
   "metadata": {},
   "outputs": [
    {
     "name": "stdout",
     "output_type": "stream",
     "text": [
      "Enter number: 0\n",
      "Number is zero\n"
     ]
    }
   ],
   "source": [
    "#Q2\n",
    "x = int(input(\"Enter number: \"))\n",
    "if x > 0:\n",
    "    print(\"Number is positive\")\n",
    "elif x < 0:\n",
    "    print(\"Number is negative\")\n",
    "else:\n",
    "    print(\"Number is zero\")"
   ]
  },
  {
   "cell_type": "code",
   "execution_count": 10,
   "metadata": {},
   "outputs": [
    {
     "name": "stdout",
     "output_type": "stream",
     "text": [
      "Enter numerator: 35\n",
      "Enter denominator: 6\n",
      "Number 35 is not completely divisible by 6\n"
     ]
    }
   ],
   "source": [
    "#Q3\n",
    "x = int(input(\"Enter numerator: \"))\n",
    "y = int(input(\"Enter denominator: \"))\n",
    "if x % y == 0:\n",
    "    print(f\"Number {x} is completely divisible by {y}\")\n",
    "else:\n",
    "    print(f\"Number {x} is not completely divisible by {y}\")"
   ]
  },
  {
   "cell_type": "code",
   "execution_count": 53,
   "metadata": {},
   "outputs": [
    {
     "name": "stdout",
     "output_type": "stream",
     "text": [
      "2020-02-15 00:00:00\n",
      "2020-02-25 00:00:00\n",
      "There are 10 between 2020-02-15 00:00:00 and 2020-02-25 00:00:00 \n"
     ]
    }
   ],
   "source": [
    "#Q4\n",
    "import datetime\n",
    "current_date = datetime.date.today()                # todays date\n",
    "first = current_date.strftime(\"%d-%b-%Y\")           # converts datetime to string\n",
    "#syntax         year, month, day \n",
    "l = datetime.date(2020,2,25)                     # giving date manually\n",
    "last = l.strftime(\"%d-%b-%Y\")                  # converting to string\n",
    "f_date = datetime.datetime.strptime(first,\"%d-%b-%Y\")   # converts first back to datetime\n",
    "l_date = datetime.datetime.strptime(last,\"%d-%b-%Y\")   # converts last back to datetime\n",
    "print(f_date)\n",
    "print(l_date)\n",
    "delta = l_date - f_date    \n",
    "print(f\"There are {delta.days} between {f_date} and {l_date} \")"
   ]
  },
  {
   "cell_type": "code",
   "execution_count": 51,
   "metadata": {},
   "outputs": [
    {
     "name": "stdout",
     "output_type": "stream",
     "text": [
      "Enter a date in YYYY-MM-DD format2020/2/13\n",
      "13/Feb/2020\n"
     ]
    }
   ],
   "source": [
    "import datetime\n",
    "date_entry = input('Enter a date in YYYY-MM-DD format')\n",
    "year, month, day = map(int, date_entry.split('/'))\n",
    "date1 = datetime.date(year, month, day)\n",
    "f = date1.strftime(\"%d/%b/%Y\") \n",
    "print(f)"
   ]
  },
  {
   "cell_type": "code",
   "execution_count": 62,
   "metadata": {},
   "outputs": [
    {
     "name": "stdout",
     "output_type": "stream",
     "text": [
      "Enter a date in (dd/mm/yy) format: 2020-02-15\n",
      "Enter a date in (dd/mm/yy) format: 2020-02-25\n",
      "There are 10 between 2020-02-15 and 2020-02-25 \n"
     ]
    }
   ],
   "source": [
    "import datetime as dt\n",
    "f_date = dt.date(2020,2,15)\n",
    "l_date = dt.date(2020,2,25)\n",
    "print(\"Enter a date in (dd/mm/yy) format:\",f_date)\n",
    "print(\"Enter a date in (dd/mm/yy) format:\",l_date)\n",
    "delta = l_date - f_date\n",
    "print(f\"There are {delta.days} between {f_date} and {l_date} \")"
   ]
  },
  {
   "cell_type": "code",
   "execution_count": 72,
   "metadata": {},
   "outputs": [
    {
     "name": "stdout",
     "output_type": "stream",
     "text": [
      "Enter radius of sphere: 1\n",
      "Volume of the sphere with radius 1 is: 4.19\n"
     ]
    }
   ],
   "source": [
    "#Q5\n",
    "# Volume of sphere = ?, radius -> input, V = 4/3 x pi x r^3\n",
    "r = int(input(\"Enter radius of sphere: \"))\n",
    "pi = 3.14\n",
    "V = (4/3)*pi*(r**3)\n",
    "print(f\"Volume of the sphere with radius {r} is: %.2f\" %V)"
   ]
  },
  {
   "cell_type": "code",
   "execution_count": 81,
   "metadata": {},
   "outputs": [
    {
     "name": "stdout",
     "output_type": "stream",
     "text": [
      "Enter string: Hi\n",
      "Enter number of copies: 4\n",
      "4 copies of Hi are:  HiHiHiHi\n"
     ]
    }
   ],
   "source": [
    "#Q6\n",
    "t = \"\"\n",
    "s = input(\"Enter string: \")\n",
    "c = int(input(\"Enter number of copies: \"))\n",
    "for i in range(1,c+1):\n",
    "    t = t + s    \n",
    "print(f\"{c} copies of {s} are: \",t)"
   ]
  },
  {
   "cell_type": "code",
   "execution_count": 83,
   "metadata": {},
   "outputs": [
    {
     "name": "stdout",
     "output_type": "stream",
     "text": [
      "Enter number: 64\n",
      "64 is Even\n"
     ]
    }
   ],
   "source": [
    "#Q7\n",
    "x = int(input(\"Enter number: \"))\n",
    "if x % 2 == 0 :\n",
    "    print(f\"{x} is Even\")\n",
    "else:\n",
    "    print(f\"{x} is Odd\")"
   ]
  },
  {
   "cell_type": "code",
   "execution_count": 86,
   "metadata": {},
   "outputs": [
    {
     "name": "stdout",
     "output_type": "stream",
     "text": [
      "Enter letter: v\n",
      "v is not a vowel\n"
     ]
    }
   ],
   "source": [
    "#Q8\n",
    "n = input(\"Enter letter: \")\n",
    "if (n == \"a\") or (n == \"e\" )or (n == \"i\") or (n == \"o\") or (n == \"u\"):\n",
    "    print(f\"{n} is vowel\")\n",
    "else: \n",
    "    print(f\"{n} is not a vowel\")"
   ]
  },
  {
   "cell_type": "code",
   "execution_count": 87,
   "metadata": {},
   "outputs": [
    {
     "name": "stdout",
     "output_type": "stream",
     "text": [
      "Enter base: 4\n",
      "Enter height: 4\n",
      "Area of triangle is:  8.0\n"
     ]
    }
   ],
   "source": [
    "#Q9\n",
    "# area of triangle\n",
    "base = int(input(\"Enter base: \"))\n",
    "height = int(input(\"Enter height: \"))\n",
    "area = (base * height)/2\n",
    "print(\"Area of triangle is: \",area)"
   ]
  },
  {
   "cell_type": "code",
   "execution_count": 95,
   "metadata": {},
   "outputs": [
    {
     "name": "stdout",
     "output_type": "stream",
     "text": [
      "Please enter principle amount: 10000\n",
      "Please enter rate of interest in %: 0.1\n",
      "Enter number of years for investment: 5\n",
      "After 5 years your principle amount 10000 over an interest rate of %0.1 will be 16105.1\n"
     ]
    }
   ],
   "source": [
    "#Q10\n",
    "# FV = P((1 + r)**t)\n",
    "a = int(input(\"Please enter principle amount: \"))\n",
    "i = float(input(\"Please enter rate of interest in %: \"))\n",
    "y = int(input(\"Enter number of years for investment: \"))\n",
    "\n",
    "fv = a*((1+i)**y)\n",
    "total = (round(fv,ndigits = 2))\n",
    "print(f\"After {y} years your principle amount {a} over an interest rate of %{i} will be {total}\")"
   ]
  },
  {
   "cell_type": "code",
   "execution_count": 97,
   "metadata": {},
   "outputs": [
    {
     "name": "stdout",
     "output_type": "stream",
     "text": [
      "Enter coordinate for x1:2\n",
      "Enter coordinate for x2:4\n",
      "Enter coordinate for y1:4\n",
      "Enter coordinate for y2:4\n",
      "Distance between (2, 4) and (4, 4) is 2\n"
     ]
    }
   ],
   "source": [
    "#Q11\n",
    "import math\n",
    "x1 = int(input(\"Enter coordinate for x1:\"))\n",
    "x2 = int(input(\"Enter coordinate for x2:\"))\n",
    "y1 = int(input(\"Enter coordinate for y1:\"))\n",
    "y2 = int(input(\"Enter coordinate for y2:\"))\n",
    "eu = int(math.sqrt((x2 - x1)**2 + (y2 - y1)**2))\n",
    "distance = print(f\"Distance between {(x1,x2)} and {(y1,y2)} is {eu}\")"
   ]
  },
  {
   "cell_type": "code",
   "execution_count": 4,
   "metadata": {},
   "outputs": [
    {
     "name": "stdout",
     "output_type": "stream",
     "text": [
      "Enter feet: 5\n",
      "There are 152.4 in 5 ft\n"
     ]
    }
   ],
   "source": [
    "#Q12\n",
    "f = int(input(\"Enter feet: \"))    # 1 feet = 30.48 cm\n",
    "f_cm = (f * 30.48)\n",
    "print(f\"There are {f_cm} in {f} ft\")"
   ]
  },
  {
   "cell_type": "code",
   "execution_count": 12,
   "metadata": {},
   "outputs": [
    {
     "name": "stdout",
     "output_type": "stream",
     "text": [
      "Enter weight in kg: 75\n",
      "Enter height in cm: 180\n",
      "Your BMI is: 23.15 \n"
     ]
    }
   ],
   "source": [
    "#Q13\n",
    "# BMI = kg / m2\n",
    "kg =int(input(\"Enter weight in kg: \"))\n",
    "f_cm = int(input(\"Enter height in cm: \"))\n",
    "\n",
    "h_m = (f_cm / 100)\n",
    "h_m2 = h_m**2\n",
    "\n",
    "BMI = (kg / h_m2)\n",
    "print(f\"Your BMI is: %.2f \" % BMI)\n"
   ]
  },
  {
   "cell_type": "code",
   "execution_count": 106,
   "metadata": {},
   "outputs": [
    {
     "name": "stdout",
     "output_type": "stream",
     "text": [
      "Input number: 5\n",
      "Sum of positive integers till 5 is: 15\n"
     ]
    }
   ],
   "source": [
    "#Q14\n",
    "n = int(input(\"Input number: \"))\n",
    "sum_num = (n * (n + 1)) // 2\n",
    "print(f\"Sum of positive integers till {n} is:\",sum_num)"
   ]
  },
  {
   "cell_type": "code",
   "execution_count": 26,
   "metadata": {},
   "outputs": [
    {
     "name": "stdout",
     "output_type": "stream",
     "text": [
      "Enter a number: 1234\n",
      "The sum of digits 1234 of number is 10\n"
     ]
    }
   ],
   "source": [
    "#Q15\n",
    "num = input(\"Enter a number: \")\n",
    "s = 0\n",
    "temp = 0\n",
    "for i in range(0,len(num)):\n",
    "    temp = num[i]\n",
    "    s += int(temp)\n",
    "\n",
    "print(f\"The sum of digits {num} of number is\",s)"
   ]
  },
  {
   "cell_type": "code",
   "execution_count": 122,
   "metadata": {},
   "outputs": [
    {
     "name": "stdout",
     "output_type": "stream",
     "text": [
      "Input a decimal number: 32\n",
      "Binary representation: 0b100000\n"
     ]
    }
   ],
   "source": [
    "#Q16\n",
    "n = int(input(\"Input a decimal number: \"))\n",
    "print(\"Binary representation:\",bin(n))"
   ]
  },
  {
   "cell_type": "code",
   "execution_count": 27,
   "metadata": {},
   "outputs": [
    {
     "name": "stdout",
     "output_type": "stream",
     "text": [
      "Input a binary number: 1101\n",
      "Decimal representation: 13\n"
     ]
    }
   ],
   "source": [
    "#Q17\n",
    "n = input(\"Input a binary number: \")\n",
    "print(\"Decimal representation:\",int(n,2))"
   ]
  },
  {
   "cell_type": "code",
   "execution_count": 137,
   "metadata": {},
   "outputs": [
    {
     "name": "stdout",
     "output_type": "stream",
     "text": [
      "Please Enter Your Own String : QuickBrownFoxJumpsovertheDog\n",
      "Total Number of Vowels in this String =  9\n",
      "Total Number of Consonants in this String =  19\n"
     ]
    }
   ],
   "source": [
    "#Q18\n",
    "str1 = input(\"Please Enter Your Own String : \")\n",
    "vowels = 0\n",
    "consonants = 0\n",
    "str1.lower()\n",
    "\n",
    "for i in str1:\n",
    "    if(i == 'a' or i == 'e' or i == 'i' or i == 'o' or i == 'u'):\n",
    "        vowels = vowels + 1\n",
    "    else:\n",
    "        consonants = consonants + 1\n",
    "        \n",
    "print(\"Total Number of Vowels in this String = \", vowels)\n",
    "print(\"Total Number of Consonants in this String = \", consonants)"
   ]
  },
  {
   "cell_type": "code",
   "execution_count": 30,
   "metadata": {},
   "outputs": [
    {
     "name": "stdout",
     "output_type": "stream",
     "text": [
      "Enter string: aha\n",
      "String aha is palindrome\n"
     ]
    }
   ],
   "source": [
    "#Q19\n",
    "str = input(\"Enter string: \")\n",
    "if str[::1] == str[::-1]: \n",
    "    print(f\"String {str} is palindrome\")\n",
    "else:\n",
    "    print(f\"String {str} is not palindrome\")"
   ]
  },
  {
   "cell_type": "code",
   "execution_count": 32,
   "metadata": {},
   "outputs": [
    {
     "name": "stdout",
     "output_type": "stream",
     "text": [
      "Enter text:Python 3.2\n",
      "Alphabets: 6\n",
      "Numbers: 2\n",
      "Spaces: 1\n",
      "Special characters: 1\n"
     ]
    }
   ],
   "source": [
    "#Q20\n",
    "str = input(\"Enter text:\")\n",
    "alpha = 0\n",
    "num = 0\n",
    "space = 0\n",
    "sc = 0\n",
    "\n",
    "for i in range(0,len(str)):  \n",
    "    \n",
    "    for j in range(65,91):    # characters A-Z \n",
    "        if str[i] == chr(j): \n",
    "            alpha += 1\n",
    "            \n",
    "    for k in range(97,123):   # characters a-z\n",
    "        if str[i] == chr(k):\n",
    "            alpha += 1\n",
    "            \n",
    "    if str[i] == chr(32):     # for space\n",
    "        space += 1\n",
    "        \n",
    "    for l in range(48,58):  # for numbers\n",
    "        if str[i] == chr(l):\n",
    "            num += 1\n",
    "    \n",
    "    for m in range(33,48):   # for special characters\n",
    "        if str[i] == chr(m):\n",
    "            sc += 1\n",
    "            \n",
    "print(\"Alphabets:\",alpha)\n",
    "print(\"Numbers:\",num)\n",
    "print(\"Spaces:\",space)\n",
    "print(\"Special characters:\",sc)\n",
    "    "
   ]
  },
  {
   "cell_type": "code",
   "execution_count": 43,
   "metadata": {},
   "outputs": [
    {
     "name": "stdout",
     "output_type": "stream",
     "text": [
      "\n",
      "* \n",
      "* * \n",
      "* * * \n",
      "* * * * \n",
      "* * * * * \n",
      "* * * * \n",
      "* * * \n",
      "* * \n",
      "* \n"
     ]
    }
   ],
   "source": [
    "#Q21\n",
    "n = 5\n",
    "for r in range(0,n):\n",
    "    for c in range(r):\n",
    "        print(\"* \",end=\"\")\n",
    "    print(\"\")\n",
    "for r in range(n,0,-1):\n",
    "    for c in range(r):\n",
    "        print(\"* \",end=\"\")\n",
    "    print(\"\")\n",
    "        "
   ]
  },
  {
   "cell_type": "code",
   "execution_count": 51,
   "metadata": {},
   "outputs": [
    {
     "name": "stdout",
     "output_type": "stream",
     "text": [
      "\n",
      "\n",
      "1  \n",
      "1  2  \n",
      "1  2  3  \n",
      "1  2  3  4  \n",
      "1  2  3  4  5  \n",
      "1  2  3  4  \n",
      "1  2  3  \n",
      "1  2  \n",
      "1  \n",
      "\n"
     ]
    }
   ],
   "source": [
    "#Q22\n",
    "n = 6\n",
    "for r in range(0,n):\n",
    "    for c in range(1,r):\n",
    "        print(c,\" \",end=\"\")\n",
    "    print(\"\")\n",
    "for r in range(n,0,-1):\n",
    "    for c in range(1,r):\n",
    "        print(c,\" \",end=\"\")\n",
    "    print(\"\")"
   ]
  },
  {
   "cell_type": "code",
   "execution_count": 55,
   "metadata": {},
   "outputs": [
    {
     "name": "stdout",
     "output_type": "stream",
     "text": [
      "\n",
      "1  \n",
      "2  2  \n",
      "3  3  3  \n",
      "4  4  4  4  \n",
      "5  5  5  5  5  \n",
      "6  6  6  6  6  6  \n",
      "7  7  7  7  7  7  7  \n",
      "8  8  8  8  8  8  8  8  \n",
      "9  9  9  9  9  9  9  9  9  \n"
     ]
    }
   ],
   "source": [
    "#Q23\n",
    "n = 10\n",
    "for r in range(0,n):\n",
    "    for c in range(r):\n",
    "        print(r,\" \",end=\"\")\n",
    "    print(\"\")"
   ]
  }
 ],
 "metadata": {
  "kernelspec": {
   "display_name": "Python 3",
   "language": "python",
   "name": "python3"
  },
  "language_info": {
   "codemirror_mode": {
    "name": "ipython",
    "version": 3
   },
   "file_extension": ".py",
   "mimetype": "text/x-python",
   "name": "python",
   "nbconvert_exporter": "python",
   "pygments_lexer": "ipython3",
   "version": "3.7.3"
  }
 },
 "nbformat": 4,
 "nbformat_minor": 2
}
